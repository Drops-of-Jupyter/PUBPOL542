{
 "cells": [
  {
   "cell_type": "code",
   "execution_count": null,
   "id": "626b3ee6",
   "metadata": {},
   "outputs": [],
   "source": [
    "#load pandas\n",
    "\n",
    "import pandas as pd"
   ]
  },
  {
   "cell_type": "code",
   "execution_count": null,
   "id": "53aa29b4",
   "metadata": {},
   "outputs": [],
   "source": [
    "#read files\n",
    "\n",
    "gitCloudRepo='https://github.com/Drops-of-Jupyter/PUBPOL542/raw/main/'\n",
    "fileName1='distribution-human-rights-vdem.csv'\n",
    "fileName2='infectious-disease-death-rates.csv'\n",
    "fileName3='water-and-sanitation.csv'\n",
    "humrightscsv=pd.read_csv(gitCloudRepo + fileName1)\n",
    "infdeathscsv=pd.read_csv(gitCloudRepo + fileName2)\n",
    "sanitationcsv=pd.read_csv(gitCloudRepo + fileName3)"
   ]
  },
  {
   "cell_type": "code",
   "execution_count": null,
   "id": "e53be769",
   "metadata": {},
   "outputs": [],
   "source": [
    "# Human rights dataset\n",
    "# Remove unneeded columns\n",
    "\n",
    "humrightscsv.columns\n",
    "bye=[1,4]\n",
    "humrightscsv.drop(columns=humrightscsv.columns[bye],inplace=True)\n",
    "humrightscsv.columns"
   ]
  },
  {
   "cell_type": "code",
   "execution_count": null,
   "id": "e2355af3",
   "metadata": {},
   "outputs": [],
   "source": [
    "# Filter rows to years 2015 - 2019\n",
    "\n",
    "humrightscsv = humrightscsv[(humrightscsv['Year'] >= 2015) & (humrightscsv['Year'] <= 2019)]\n",
    "humrightscsv.head()"
   ]
  },
  {
   "cell_type": "code",
   "execution_count": null,
   "id": "3a63e985",
   "metadata": {},
   "outputs": [],
   "source": [
    "humrightscsv.columns.str.replace(pat=\"civ_libs_vdem_owid\", \n",
    "                                 repl=\"VDEM\", \n",
    "                                 regex=True)\n",
    "humrightscsv.columns=humrightscsv.columns.str.replace(\"civ_libs_vdem_owid\",\n",
    "                                                      \"VDEM\",\n",
    "                                                      regex=True)\n",
    "humrightscsv.columns"
   ]
  },
  {
   "cell_type": "code",
   "execution_count": null,
   "id": "41bd9974",
   "metadata": {},
   "outputs": [],
   "source": [
    "humrightscsv.columns.str.replace(pat=\"Entity\", \n",
    "                                 repl=\"Country\", \n",
    "                                 regex=True)\n",
    "humrightscsv.columns=humrightscsv.columns.str.replace(\"Entity\",\n",
    "                                                      \"Country\",\n",
    "                                                      regex=True)"
   ]
  },
  {
   "cell_type": "code",
   "execution_count": null,
   "id": "c4443f9b",
   "metadata": {},
   "outputs": [],
   "source": [
    "humrightscsv=humrightscsv.reset_index(drop=True)\n",
    "humrightscsv.head()"
   ]
  },
  {
   "cell_type": "code",
   "execution_count": null,
   "id": "593b7476",
   "metadata": {},
   "outputs": [],
   "source": [
    "humrightscsv.iloc[:,:2]"
   ]
  },
  {
   "cell_type": "code",
   "execution_count": null,
   "id": "ee978cd3",
   "metadata": {},
   "outputs": [],
   "source": [
    "# Sanitations dataset\n",
    "sanitationcsv.head()"
   ]
  },
  {
   "cell_type": "code",
   "execution_count": null,
   "id": "58227b4c",
   "metadata": {},
   "outputs": [],
   "source": [
    "sanitationcsv = sanitationcsv[[\n",
    "    'Entity',\n",
    "    'Year',\n",
    "    'Access to limited drinking water',\n",
    "    'Access to limited sanitation services',\n",
    "    'Access to limited handwashing facilities',\n",
    "    'Number with access to limited drinking water',\n",
    "    'Number with access to limited sanitation services',\n",
    "    'Number with access to limited handwashing facilities',\n",
    "]]"
   ]
  },
  {
   "cell_type": "code",
   "execution_count": null,
   "id": "0bcade47",
   "metadata": {},
   "outputs": [],
   "source": [
    "sanitationcsv.head()"
   ]
  },
  {
   "cell_type": "code",
   "execution_count": null,
   "id": "1c95f770",
   "metadata": {},
   "outputs": [],
   "source": [
    "sanitationcsv = sanitationcsv[(sanitationcsv['Year'] >= 2015) & (sanitationcsv['Year'] <= 2019)]\n",
    "sanitationcsv.head()"
   ]
  },
  {
   "cell_type": "code",
   "execution_count": null,
   "id": "d47ab3ce",
   "metadata": {},
   "outputs": [],
   "source": [
    "sanitationcsv=sanitationcsv.reset_index(drop=True)\n",
    "sanitationcsv.head()"
   ]
  },
  {
   "cell_type": "code",
   "execution_count": null,
   "id": "c294b3ee",
   "metadata": {},
   "outputs": [],
   "source": [
    "sanitationcsv.columns.str.replace(pat=\"Access to limited drinking water\", \n",
    "                                  repl=\"LDW\", \n",
    "                                  regex=True)\n",
    "sanitationcsv.columns=sanitationcsv.columns.str.replace(\"Access to limited drinking water\",\n",
    "                                                        \"LDW\",\n",
    "                                                        regex=True)"
   ]
  },
  {
   "cell_type": "code",
   "execution_count": null,
   "id": "49d0baa2",
   "metadata": {},
   "outputs": [],
   "source": [
    "sanitationcsv.columns.str.replace(pat=\"Access to limited sanitation services\", \n",
    "                                  repl=\"LSS\", \n",
    "                                  regex=True)\n",
    "sanitationcsv.columns=sanitationcsv.columns.str.replace(\"Access to limited sanitation services\",\n",
    "                                                        \"LSS\",\n",
    "                                                        regex=True)"
   ]
  },
  {
   "cell_type": "code",
   "execution_count": null,
   "id": "a684c82a",
   "metadata": {},
   "outputs": [],
   "source": [
    "sanitationcsv.columns.str.replace(pat=\"Access to limited handwashing facilities\", \n",
    "                                  repl=\"LHF\", \n",
    "                                  regex=True)\n",
    "sanitationcsv.columns=sanitationcsv.columns.str.replace(\"Access to limited handwashing facilities\",\n",
    "                                                        \"LHF\",\n",
    "                                                        regex=True)"
   ]
  },
  {
   "cell_type": "code",
   "execution_count": null,
   "id": "7984073a",
   "metadata": {},
   "outputs": [],
   "source": [
    "sanitationcsv.columns.str.replace(pat=\"Number with access to limited drinking water\", \n",
    "                                  repl=\"#LDW\", \n",
    "                                  regex=True)\n",
    "sanitationcsv.columns=sanitationcsv.columns.str.replace(\"Number with access to limited drinking water\",\n",
    "                                                        \"#LDW\",\n",
    "                                                        regex=True)"
   ]
  },
  {
   "cell_type": "code",
   "execution_count": null,
   "id": "16f496ac",
   "metadata": {},
   "outputs": [],
   "source": [
    "sanitationcsv.columns.str.replace(pat=\"Number with access to limited sanitation services\", \n",
    "                                  repl=\"#LSS\", \n",
    "                                  regex=True)\n",
    "sanitationcsv.columns=sanitationcsv.columns.str.replace(\"Number with access to limited sanitation services\",\n",
    "                                                        \"#LSS\",\n",
    "                                                        regex=True)"
   ]
  },
  {
   "cell_type": "code",
   "execution_count": null,
   "id": "afc7b5c6",
   "metadata": {},
   "outputs": [],
   "source": [
    "sanitationcsv.columns.str.replace(pat=\"Number with access to limited handwashing facilities\", \n",
    "                                  repl=\"#LHF\", \n",
    "                                  regex=True)\n",
    "sanitationcsv.columns=sanitationcsv.columns.str.replace(\"Number with access to limited handwashing facilities\",\n",
    "                                                        \"#LHF\",\n",
    "                                                        regex=True)"
   ]
  },
  {
   "cell_type": "code",
   "execution_count": null,
   "id": "d0775499",
   "metadata": {},
   "outputs": [],
   "source": [
    "sanitationcsv.columns.str.replace(pat=\"Entity\", \n",
    "                                  repl=\"Country\", \n",
    "                                  regex=True)\n",
    "sanitationcsv.columns=sanitationcsv.columns.str.replace(\"Entity\",\n",
    "                                                        \"Country\",\n",
    "                                                        regex=True)"
   ]
  },
  {
   "cell_type": "code",
   "execution_count": null,
   "id": "af7f5332",
   "metadata": {},
   "outputs": [],
   "source": [
    "sanitationcsv.head()"
   ]
  },
  {
   "cell_type": "code",
   "execution_count": null,
   "id": "77c75a86",
   "metadata": {},
   "outputs": [],
   "source": [
    "sanitationcsv.iloc[:,:2]"
   ]
  },
  {
   "cell_type": "code",
   "execution_count": null,
   "id": "01067421",
   "metadata": {},
   "outputs": [],
   "source": [
    "infdeathscsv.head()"
   ]
  },
  {
   "cell_type": "code",
   "execution_count": null,
   "id": "2e43b380",
   "metadata": {},
   "outputs": [],
   "source": [
    "infdeathscsv = infdeathscsv[(infdeathscsv['Year'] >= 2015) & (infdeathscsv['Year'] <= 2019)]\n",
    "infdeathscsv.head()"
   ]
  },
  {
   "cell_type": "code",
   "execution_count": null,
   "id": "2348911a",
   "metadata": {},
   "outputs": [],
   "source": [
    "infdeathscsv.columns\n",
    "bye=[1]\n",
    "infdeathscsv.drop(columns=infdeathscsv.columns[bye],inplace=True)\n",
    "infdeathscsv.columns"
   ]
  },
  {
   "cell_type": "code",
   "execution_count": null,
   "id": "bfcf2792",
   "metadata": {},
   "outputs": [],
   "source": [
    "infdeathscsv.columns.str.replace(pat=\"Deaths - Infectious diseases - OWID - Sex: Both - Age: Age-standardized (Rate)\", \n",
    "                                 repl=\"Death Rate\", \n",
    "                                 regex=True)\n",
    "infdeathscsv.columns=infdeathscsv.columns.str.replace(\"Deaths - Infectious diseases - OWID - Sex: Both - Age: Age-standardized (Rate)\",\n",
    "                                                      \"Death Rate\",\n",
    "                                                      regex=True)"
   ]
  },
  {
   "cell_type": "code",
   "execution_count": null,
   "id": "0d3a1b04",
   "metadata": {},
   "outputs": [],
   "source": [
    "infdeathscsv.columns.str.replace(pat=\"Entity\", \n",
    "                                 repl=\"Country\", \n",
    "                                 regex=True)\n",
    "infdeathscsv.columns=infdeathscsv.columns.str.replace(\"Entity\",\n",
    "                                                      \"Country\",\n",
    "                                                      regex=True)"
   ]
  },
  {
   "cell_type": "code",
   "execution_count": null,
   "id": "7e6a8b64",
   "metadata": {},
   "outputs": [],
   "source": [
    "infdeathscsv.columns"
   ]
  },
  {
   "cell_type": "code",
   "execution_count": null,
   "id": "b9a4606e",
   "metadata": {},
   "outputs": [],
   "source": [
    "infdeathscsv=infdeathscsv.reset_index(drop=True)\n",
    "infdeathscsv.head()"
   ]
  },
  {
   "cell_type": "code",
   "execution_count": null,
   "id": "fb383483",
   "metadata": {},
   "outputs": [],
   "source": [
    "\" Afghanistan \".strip()"
   ]
  },
  {
   "cell_type": "code",
   "execution_count": null,
   "id": "2c28ac7a",
   "metadata": {},
   "outputs": [],
   "source": [
    "infdeathscsv.iloc[:,:2]"
   ]
  },
  {
   "cell_type": "code",
   "execution_count": null,
   "id": "70156e94",
   "metadata": {},
   "outputs": [],
   "source": [
    "sanitationcsv.iloc[:,:2]"
   ]
  },
  {
   "cell_type": "code",
   "execution_count": null,
   "id": "173e142e",
   "metadata": {},
   "outputs": [],
   "source": [
    "infdeathscsv.iloc[:,1]"
   ]
  },
  {
   "cell_type": "code",
   "execution_count": null,
   "id": "fbacf696",
   "metadata": {},
   "outputs": [],
   "source": [
    "infdeathscsv.Year.value_counts()"
   ]
  },
  {
   "cell_type": "code",
   "execution_count": null,
   "id": "02662156",
   "metadata": {},
   "outputs": [],
   "source": [
    "infdeathscsv.info()"
   ]
  },
  {
   "cell_type": "code",
   "execution_count": null,
   "id": "dae40a66",
   "metadata": {},
   "outputs": [],
   "source": [
    "sanitationcsv.info()"
   ]
  },
  {
   "cell_type": "code",
   "execution_count": null,
   "id": "ff4d5eb8",
   "metadata": {},
   "outputs": [],
   "source": [
    "humrightscsv.info()"
   ]
  }
 ],
 "metadata": {
  "kernelspec": {
   "display_name": "Python 3 (ipykernel)",
   "language": "python",
   "name": "python3"
  },
  "language_info": {
   "codemirror_mode": {
    "name": "ipython",
    "version": 3
   },
   "file_extension": ".py",
   "mimetype": "text/x-python",
   "name": "python",
   "nbconvert_exporter": "python",
   "pygments_lexer": "ipython3",
   "version": "3.9.13"
  }
 },
 "nbformat": 4,
 "nbformat_minor": 5
}
