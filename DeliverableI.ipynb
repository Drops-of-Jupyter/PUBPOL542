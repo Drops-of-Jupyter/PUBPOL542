{
 "cells": [
  {
   "cell_type": "markdown",
   "id": "f044bdef",
   "metadata": {},
   "source": [
    "# 542 Deliverable I\n",
    "#### 2.11.23\n",
    "#### Cleaning and Formatting"
   ]
  },
  {
   "cell_type": "code",
   "execution_count": 1,
   "id": "626b3ee6",
   "metadata": {},
   "outputs": [],
   "source": [
    "import pandas as pd"
   ]
  },
  {
   "cell_type": "code",
   "execution_count": 2,
   "id": "53aa29b4",
   "metadata": {},
   "outputs": [],
   "source": [
    "gitCloudRepo='https://github.com/Drops-of-Jupyter/PUBPOL542/raw/main/'\n",
    "fileName1='distribution-human-rights-vdem.csv'\n",
    "fileName2='infectious-disease-death-rates.csv'\n",
    "fileName3='water-and-sanitation.csv'\n",
    "humrightscsv=pd.read_csv(gitCloudRepo + fileName1)\n",
    "infdeathscsv=pd.read_csv(gitCloudRepo + fileName2)\n",
    "sanitationcsv=pd.read_csv(gitCloudRepo + fileName3)"
   ]
  },
  {
   "cell_type": "code",
   "execution_count": 3,
   "id": "3a63e985",
   "metadata": {},
   "outputs": [],
   "source": [
    "humrightscsv.columns=humrightscsv.columns.str.replace(\"civ_libs_vdem_owid\",\"vdem\",regex=False)\n",
    "humrightscsv.columns=humrightscsv.columns.str.replace(\"Entity\",\"country\",regex=False)\n",
    "humrightscsv.columns=humrightscsv.columns.str.replace(\"Year\",\"year\",regex=False)\n",
    "infdeathscsv.columns=infdeathscsv.columns.str.replace(\"Deaths - Infectious diseases - OWID - Sex: Both - Age: Age-standardized (Rate)\",\"death rate\",regex=False)\n",
    "infdeathscsv.columns=infdeathscsv.columns.str.replace(\"Entity\",\"country\",regex=False)\n",
    "infdeathscsv.columns=infdeathscsv.columns.str.replace(\"Year\",\"year\",regex=False)\n",
    "sanitationcsv.columns=sanitationcsv.columns.str.replace(\"Access to limited drinking water\",\"ldw\",regex=False)\n",
    "sanitationcsv.columns=sanitationcsv.columns.str.replace(\"Access to limited sanitation services\",\"lss\",regex=False)\n",
    "sanitationcsv.columns=sanitationcsv.columns.str.replace(\"Entity\",\"country\",regex=False)\n",
    "sanitationcsv.columns=sanitationcsv.columns.str.replace(\"Year\",\"year\",regex=False)"
   ]
  },
  {
   "cell_type": "code",
   "execution_count": 4,
   "id": "b4746e60",
   "metadata": {},
   "outputs": [],
   "source": [
    "humrightscsv = humrightscsv[['country','year','vdem']]\n",
    "infdeathscsv = infdeathscsv[['country','year','death rate']]\n",
    "sanitationcsv = sanitationcsv[['country','year','ldw','lss']]"
   ]
  },
  {
   "cell_type": "code",
   "execution_count": 5,
   "id": "9725e29b",
   "metadata": {},
   "outputs": [],
   "source": [
    "humrightscsv = humrightscsv[(humrightscsv['year'] == 2015)]\n",
    "infdeathscsv = infdeathscsv[(infdeathscsv['year'] == 2015)]\n",
    "sanitationcsv = sanitationcsv[(sanitationcsv['year'] == 2015)]"
   ]
  },
  {
   "cell_type": "code",
   "execution_count": 6,
   "id": "c4443f9b",
   "metadata": {},
   "outputs": [],
   "source": [
    "humrightscsv=humrightscsv.reset_index(drop=True)\n",
    "infdeathscsv=infdeathscsv.reset_index(drop=True)\n",
    "sanitationcsv=sanitationcsv.reset_index(drop=True)"
   ]
  },
  {
   "cell_type": "code",
   "execution_count": 7,
   "id": "c0d47ff8",
   "metadata": {},
   "outputs": [],
   "source": [
    "main=infdeathscsv.merge(sanitationcsv)\n",
    "merged=main.merge(humrightscsv)"
   ]
  },
  {
   "cell_type": "code",
   "execution_count": 8,
   "id": "e51c5cd1",
   "metadata": {},
   "outputs": [],
   "source": [
    "merged.to_csv(\"finaldata.csv\", index=False)"
   ]
  }
 ],
 "metadata": {
  "kernelspec": {
   "display_name": "Python 3 (ipykernel)",
   "language": "python",
   "name": "python3"
  },
  "language_info": {
   "codemirror_mode": {
    "name": "ipython",
    "version": 3
   },
   "file_extension": ".py",
   "mimetype": "text/x-python",
   "name": "python",
   "nbconvert_exporter": "python",
   "pygments_lexer": "ipython3",
   "version": "3.9.13"
  }
 },
 "nbformat": 4,
 "nbformat_minor": 5
}
